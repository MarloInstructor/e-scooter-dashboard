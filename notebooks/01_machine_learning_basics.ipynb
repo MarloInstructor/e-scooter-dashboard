{
 "cells": [
  {
   "cell_type": "markdown",
   "id": "2461c385",
   "metadata": {},
   "source": [
    "# Machine Learning Basics\n",
    "\n",
    "Welcome! This notebook introduces the core ideas behind machine learning with a simple example."
   ]
  },
  {
   "cell_type": "markdown",
   "id": "fc4d627e",
   "metadata": {},
   "source": [
    "## What is Machine Learning?\n",
    "Machine learning allows computers to learn patterns from data. Unlike traditional programming where rules are explicitly written, ML models infer the rules from examples."
   ]
  },
  {
   "cell_type": "markdown",
   "id": "14ea136c",
   "metadata": {},
   "source": [
    "**Fun fact:** The term 'machine learning' was coined by Arthur Samuel in 1959."
   ]
  },
  {
   "cell_type": "code",
   "execution_count": null,
   "id": "d9a9fbbe",
   "metadata": {},
   "outputs": [],
   "source": [
    "import pandas as pd\n",
    "from sklearn.datasets import load_iris\n",
    "from sklearn.model_selection import train_test_split\n",
    "from sklearn.linear_model import LogisticRegression\n",
    "\n",
    "# Load a classic toy dataset\n",
    "iris = load_iris(as_frame=True)\n",
    "X = iris.data\n",
    "y = iris.target\n",
    "\n",
    "# Split into train and test sets\n",
    "X_train, X_test, y_train, y_test = train_test_split(X, y, test_size=0.2, random_state=42)\n",
    "\n",
    "model = LogisticRegression(max_iter=200)\n",
    "model.fit(X_train, y_train)\n",
    "print('Model accuracy:', model.score(X_test, y_test))"
   ]
  },
  {
   "cell_type": "markdown",
   "id": "f1079e14",
   "metadata": {},
   "source": [
    "This short example demonstrates supervised learning using the Iris dataset."
   ]
  },
  {
   "cell_type": "markdown",
   "id": "7495b0f4",
   "metadata": {},
   "source": [
    "### Side Fact\n",
    "Logistic regression is over half a century old, yet it remains a solid baseline for classification tasks."
   ]
  }
 ],
 "metadata": {},
 "nbformat": 4,
 "nbformat_minor": 5
}
