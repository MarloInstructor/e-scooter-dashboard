{
 "cells": [
  {
   "cell_type": "markdown",
   "id": "fdd4ac54",
   "metadata": {},
   "source": [
    "# Time Series Forecasting\n",
    "\n",
    "In this notebook we forecast scooter demand using Prophet."
   ]
  },
  {
   "cell_type": "markdown",
   "id": "ce482b6d",
   "metadata": {},
   "source": [
    "## Why Forecast?\n",
    "Time series forecasting helps predict future values based on historical observations."
   ]
  },
  {
   "cell_type": "markdown",
   "id": "c79525bf",
   "metadata": {},
   "source": [
    "**Fun fact:** Facebook (now Meta) released Prophet in 2017 to make forecasting easier for data scientists."
   ]
  },
  {
   "cell_type": "code",
   "execution_count": null,
   "id": "616efb3c",
   "metadata": {},
   "outputs": [],
   "source": [
    "import pandas as pd\n",
    "from prophet import Prophet\n",
    "\n",
    "df = pd.read_csv('data/data.csv', parse_dates=['ds'])\n",
    "# Use only 1000 rows for speed\n",
    "df_small = df[['ds','y']].dropna().iloc[:1000]\n",
    "model = Prophet()\n",
    "model.fit(df_small.rename(columns={'ds':'ds','y':'y'}))\n",
    "future = model.make_future_dataframe(periods=24, freq='H')\n",
    "forecast = model.predict(future)\n",
    "forecast[['ds','yhat']].tail()"
   ]
  },
  {
   "cell_type": "markdown",
   "id": "eae6e6eb",
   "metadata": {},
   "source": [
    "The code above trains a simple Prophet model and forecasts the next day of demand."
   ]
  },
  {
   "cell_type": "markdown",
   "id": "a848d04a",
   "metadata": {},
   "source": [
    "### Side Fact\n",
    "Prophet models seasonality with Fourier series under the hood."
   ]
  }
 ],
 "metadata": {},
 "nbformat": 4,
 "nbformat_minor": 5
}
