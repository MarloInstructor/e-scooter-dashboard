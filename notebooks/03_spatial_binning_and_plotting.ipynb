{
 "cells": [
  {
   "cell_type": "markdown",
   "id": "2e852c49",
   "metadata": {},
   "source": [
    "# Spatial Binning and Plotting\n",
    "\n",
    "Let's visualize scooter trips across Chicago using hexagonal bins."
   ]
  },
  {
   "cell_type": "markdown",
   "id": "092be98e",
   "metadata": {},
   "source": [
    "## Spatial Binning\n",
    "Spatial binning groups nearby points so we can see patterns on a map."
   ]
  },
  {
   "cell_type": "markdown",
   "id": "c2b99b51",
   "metadata": {},
   "source": [
    "**Fun fact:** The H3 indexing system used here was developed by Uber to scale map analytics."
   ]
  },
  {
   "cell_type": "code",
   "execution_count": null,
   "id": "52189c35",
   "metadata": {},
   "outputs": [],
   "source": [
    "import pandas as pd\n",
    "import folium\n",
    "from folium.plugins import HeatMap\n",
    "\n",
    "hex_df = pd.read_csv('data/hex_toolpin.csv')\n",
    "hex_df = hex_df.head(200)  # keep it quick\n",
    "map_center = [41.8781, -87.6298]\n",
    "base_map = folium.Map(location=map_center, zoom_start=11)\n",
    "# In a full analysis we would convert H3 hex IDs to lat/lon and plot polygons.\n",
    "# Here we simply show an aggregate heat map for simplicity.\n",
    "HeatMap(hex_df[['avg_distance','avg_duration']]).add_to(base_map)\n",
    "base_map"
   ]
  },
  {
   "cell_type": "markdown",
   "id": "5737e1e2",
   "metadata": {},
   "source": [
    "This simplified example demonstrates grouping data spatially and plotting with Folium."
   ]
  },
  {
   "cell_type": "markdown",
   "id": "8bdae0d3",
   "metadata": {},
   "source": [
    "### Side Fact\n",
    "Chicago's street grid was one of the earliest planned systems in the U.S."
   ]
  }
 ],
 "metadata": {},
 "nbformat": 4,
 "nbformat_minor": 5
}
